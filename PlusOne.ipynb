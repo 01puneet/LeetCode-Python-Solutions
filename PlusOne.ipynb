{
 "cells": [
  {
   "cell_type": "code",
   "execution_count": null,
   "id": "9ef743c3-e816-45ac-a7a3-90e4cef92bf0",
   "metadata": {},
   "outputs": [],
   "source": [
    "class Solution(object):\n",
    "    def plusOne(self, digits):\n",
    "        final=[]#creating a final list\n",
    "        s=\"\".join(map(str,digits))#converting digits to string & joining elements\n",
    "        num=int(s)#converting string to number\n",
    "        plusone=num+1 #adding one number in it\n",
    "        s1=str(plusone)#converting number back in string\n",
    "        for i in s1:#loop the string\n",
    "            final.append(int(i))#add integer element of evaluted numer in final.\n",
    "        return final\n",
    "       \n",
    "        \n",
    "obj=Solution()\n",
    "digits = [4,3,2,1]\n",
    "obj.plusOne(digits)"
   ]
  }
 ],
 "metadata": {
  "kernelspec": {
   "display_name": "Python 3 (ipykernel)",
   "language": "python",
   "name": "python3"
  },
  "language_info": {
   "codemirror_mode": {
    "name": "ipython",
    "version": 3
   },
   "file_extension": ".py",
   "mimetype": "text/x-python",
   "name": "python",
   "nbconvert_exporter": "python",
   "pygments_lexer": "ipython3",
   "version": "3.9.12"
  }
 },
 "nbformat": 4,
 "nbformat_minor": 5
}
