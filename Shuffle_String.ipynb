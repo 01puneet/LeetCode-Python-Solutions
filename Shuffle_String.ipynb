{
 "cells": [
  {
   "cell_type": "code",
   "execution_count": 3,
   "id": "ba9efe93-bf49-49bb-a616-3a9344595dbc",
   "metadata": {},
   "outputs": [
    {
     "data": {
      "text/plain": [
       "'leetcode'"
      ]
     },
     "execution_count": 3,
     "metadata": {},
     "output_type": "execute_result"
    }
   ],
   "source": [
    "class Solution(object):\n",
    "    def restoreString(self, s, indices):\n",
    "        l=[] #create a empty list\n",
    "        for i in s: #looping the string\n",
    "            l.append(i)#inserting individual string elements into list\n",
    "        z=zip(indices,l)#zipping 2 lits-indices with individual list of elements\n",
    "        d=list(z)#converting z into list\n",
    "        d.sort()#sorting the list\n",
    "        s=[]#resultant string\n",
    "        for i in range(0,len(d)):#looping sorted zipped lists\n",
    "            s.append(d[i][1]) #inserting the string elements into s\n",
    "        res=\"\".join(s) #joining the individual elements back to string\n",
    "        return res\n",
    "        \n",
    "obj=Solution()\n",
    "s = \"codeleet\"\n",
    "indices =[4,5,6,7,0,2,1,3]\n",
    "obj.restoreString(s,indices)"
   ]
  },
  {
   "cell_type": "code",
   "execution_count": null,
   "id": "37bda0ce-3510-4413-9b80-27e19a6c2381",
   "metadata": {},
   "outputs": [],
   "source": []
  },
  {
   "cell_type": "code",
   "execution_count": null,
   "id": "318ef596-5fd5-4f5a-9a90-734ddc786480",
   "metadata": {},
   "outputs": [],
   "source": []
  }
 ],
 "metadata": {
  "kernelspec": {
   "display_name": "Python 3 (ipykernel)",
   "language": "python",
   "name": "python3"
  },
  "language_info": {
   "codemirror_mode": {
    "name": "ipython",
    "version": 3
   },
   "file_extension": ".py",
   "mimetype": "text/x-python",
   "name": "python",
   "nbconvert_exporter": "python",
   "pygments_lexer": "ipython3",
   "version": "3.9.12"
  }
 },
 "nbformat": 4,
 "nbformat_minor": 5
}
