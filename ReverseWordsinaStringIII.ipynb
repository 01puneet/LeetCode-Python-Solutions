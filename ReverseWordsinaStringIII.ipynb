{
 "cells": [
  {
   "cell_type": "code",
   "execution_count": null,
   "id": "b7239079-9e78-4779-8101-808e9fab9353",
   "metadata": {},
   "outputs": [],
   "source": [
    "#Reverse Words in a String III\n",
    "class Solution(object):\n",
    "    def reverseWords(self, s):\n",
    "        \"\"\"\n",
    "        :type s: str\n",
    "        :rtype: str\n",
    "        \"\"\"\n",
    "        rev=[]#creating a empty list \n",
    "        l=s.split(\" \")#splitting list into string\n",
    "        for i in l: #looping the list\n",
    "            r= i[::-1] #reversing element of list\n",
    "            rev.append(r) #append the reversed element\n",
    "        final=\" \".join(rev) #join the list into string\n",
    "        return final\n",
    "          \n",
    "obj=Solution()\n",
    "s=\"God Ding\"\n",
    "obj.reverseWords(s)"
   ]
  }
 ],
 "metadata": {
  "kernelspec": {
   "display_name": "Python 3 (ipykernel)",
   "language": "python",
   "name": "python3"
  },
  "language_info": {
   "codemirror_mode": {
    "name": "ipython",
    "version": 3
   },
   "file_extension": ".py",
   "mimetype": "text/x-python",
   "name": "python",
   "nbconvert_exporter": "python",
   "pygments_lexer": "ipython3",
   "version": "3.9.12"
  }
 },
 "nbformat": 4,
 "nbformat_minor": 5
}
