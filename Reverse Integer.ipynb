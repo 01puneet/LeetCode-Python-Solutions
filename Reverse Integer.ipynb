{
 "cells": [
  {
   "cell_type": "code",
   "execution_count": 11,
   "id": "7386dbe8-cc0e-4efe-a0b0-831396480fa0",
   "metadata": {},
   "outputs": [
    {
     "data": {
      "text/plain": [
       "321"
      ]
     },
     "execution_count": 11,
     "metadata": {},
     "output_type": "execute_result"
    }
   ],
   "source": [
    "class Solution(object):\n",
    "    def reverse(self, x):\n",
    "        s=str(num)\n",
    "        if s[0]== '-':\n",
    "            v=s[1:]\n",
    "            rev=v[::-1]\n",
    "            result=s[0] + rev\n",
    "            return int(result)\n",
    "        else:\n",
    "            result=s[::-1]\n",
    "            return int(result)\n",
    "            \n",
    "        \n",
    "obj=Solution()\n",
    "num=123\n",
    "obj.reverse(num)"
   ]
  },
  {
   "cell_type": "code",
   "execution_count": null,
   "id": "e98540b6-08ee-4d82-881f-e79d9bc8c171",
   "metadata": {},
   "outputs": [],
   "source": []
  }
 ],
 "metadata": {
  "kernelspec": {
   "display_name": "Python 3 (ipykernel)",
   "language": "python",
   "name": "python3"
  },
  "language_info": {
   "codemirror_mode": {
    "name": "ipython",
    "version": 3
   },
   "file_extension": ".py",
   "mimetype": "text/x-python",
   "name": "python",
   "nbconvert_exporter": "python",
   "pygments_lexer": "ipython3",
   "version": "3.9.12"
  }
 },
 "nbformat": 4,
 "nbformat_minor": 5
}
