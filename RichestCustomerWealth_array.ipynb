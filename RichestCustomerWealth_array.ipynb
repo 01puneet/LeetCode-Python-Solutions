{
 "cells": [
  {
   "cell_type": "code",
   "execution_count": 4,
   "id": "09ef1f0e-7ae8-4404-b8af-d202407eccf0",
   "metadata": {},
   "outputs": [
    {
     "data": {
      "text/plain": [
       "17"
      ]
     },
     "execution_count": 4,
     "metadata": {},
     "output_type": "execute_result"
    }
   ],
   "source": [
    "class Solution(object):\n",
    "    def maximumWealth(self, accounts):\n",
    "        sum=0#initial Sum 0\n",
    "        richest_customer=[]#will be used to add solved nested lists\n",
    "        nested_length=len(accounts[0])#finding length of nested array\n",
    "    \n",
    "        for i in range(0,len(accounts)):#looping the array\n",
    "            for j in range(0,nested_length):#looping the nested array   \n",
    "                sum+=accounts[i][j] #adding the values of nested array\n",
    "            richest_customer.append(sum)#adding summed value of nested array\n",
    "            sum=0 #reinitialize sum to 0\n",
    "        return max(richest_customer) #will return maximum of array\n",
    "                \n",
    "        \n",
    "obj=Solution()#object Creation\n",
    "accounts= [[2,8,7],[7,1,3],[1,9,5]] #defining a array\n",
    "obj.maximumWealth(accounts)#method call\n"
   ]
  },
  {
   "cell_type": "code",
   "execution_count": null,
   "id": "0cd66945-bf16-4ffd-8557-33a47d959736",
   "metadata": {},
   "outputs": [],
   "source": []
  }
 ],
 "metadata": {
  "kernelspec": {
   "display_name": "Python 3 (ipykernel)",
   "language": "python",
   "name": "python3"
  },
  "language_info": {
   "codemirror_mode": {
    "name": "ipython",
    "version": 3
   },
   "file_extension": ".py",
   "mimetype": "text/x-python",
   "name": "python",
   "nbconvert_exporter": "python",
   "pygments_lexer": "ipython3",
   "version": "3.9.12"
  }
 },
 "nbformat": 4,
 "nbformat_minor": 5
}
