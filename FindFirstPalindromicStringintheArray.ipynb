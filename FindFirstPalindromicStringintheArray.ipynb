{
 "cells": [
  {
   "cell_type": "code",
   "execution_count": 1,
   "id": "157867f7-9f80-467a-a288-78eae3f01a4c",
   "metadata": {},
   "outputs": [
    {
     "data": {
      "text/plain": [
       "'ada'"
      ]
     },
     "execution_count": 1,
     "metadata": {},
     "output_type": "execute_result"
    }
   ],
   "source": [
    "class Solution(object):\n",
    "    flag=False #setting a flag \n",
    "    def firstPalindrome(self, words):#\n",
    "        for i in range(0,len(words)): #looping the words\n",
    "            if words[i]==words[i][::-1]:#checking if word is equal to its reverse\n",
    "                pallindrome=words[i] #if equal then its pallindrome & store it in variable\n",
    "                return pallindrome #return that pallindrome word\n",
    "            else:\n",
    "                flag=False # if words are not equal.\n",
    "        if flag==True: #if true pass\n",
    "            pass\n",
    "        else:\n",
    "            return \"\" #return empty string\n",
    "            \n",
    "obj=Solution()\n",
    "words = [\"abc\",\"car\",\"ada\",\"racecar\",\"cool\"]\n",
    "obj.firstPalindrome(words)"
   ]
  },
  {
   "cell_type": "code",
   "execution_count": null,
   "id": "7ef32bed-1db7-496f-86ff-ec36c58e85a1",
   "metadata": {},
   "outputs": [],
   "source": [
    "class Solution(object):\n",
    "    flag=False\n",
    "    def firstPalindrome(self, words):\n",
    "        for i in range(0,len(words)):\n",
    "            if words[i]==words[i][::-1]:\n",
    "                return words[i]\n",
    "                flag=True\n",
    "            else:\n",
    "                flag=False\n",
    "        if flag==True:\n",
    "            return words[i]\n",
    "        else:\n",
    "            return \"\"\n",
    "            \n",
    "obj=Solution()\n",
    "words = [\"abc\",\"car\",\"ada\",\"racecar\",\"cool\"]\n",
    "obj.firstPalindrome(words)"
   ]
  }
 ],
 "metadata": {
  "kernelspec": {
   "display_name": "Python 3 (ipykernel)",
   "language": "python",
   "name": "python3"
  },
  "language_info": {
   "codemirror_mode": {
    "name": "ipython",
    "version": 3
   },
   "file_extension": ".py",
   "mimetype": "text/x-python",
   "name": "python",
   "nbconvert_exporter": "python",
   "pygments_lexer": "ipython3",
   "version": "3.9.12"
  }
 },
 "nbformat": 4,
 "nbformat_minor": 5
}
