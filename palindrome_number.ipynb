{
 "cells": [
  {
   "cell_type": "code",
   "execution_count": 4,
   "id": "9d0e67fd-29fc-46b7-b8ce-9a8c41fabc04",
   "metadata": {},
   "outputs": [
    {
     "name": "stdin",
     "output_type": "stream",
     "text": [
      "Enter any num= 121\n"
     ]
    },
    {
     "name": "stdout",
     "output_type": "stream",
     "text": [
      "Reverse is- 121\n"
     ]
    },
    {
     "data": {
      "text/plain": [
       "True"
      ]
     },
     "execution_count": 4,
     "metadata": {},
     "output_type": "execute_result"
    }
   ],
   "source": [
    "class Solution(object):\n",
    "    def isPalindrome(self, num):\n",
    "        var=str(num)\n",
    "        rev=\"\"\n",
    "        l=len(var)\n",
    "        for i in range(l-1,-1,-1):\n",
    "            rev += var[i]\n",
    "        print('Reverse is-',rev)\n",
    "        if rev==str(num):\n",
    "            return True\n",
    "        else:\n",
    "            return False     \n",
    "obj=Solution()\n",
    "num=121\n",
    "obj.isPalindrome(num)\n"
   ]
  },
  {
   "cell_type": "code",
   "execution_count": 3,
   "id": "2621e643-c485-4088-92e8-036933849a20",
   "metadata": {},
   "outputs": [
    {
     "name": "stdout",
     "output_type": "stream",
     "text": [
      "[]\n"
     ]
    },
    {
     "data": {
      "text/plain": [
       "True"
      ]
     },
     "execution_count": 3,
     "metadata": {},
     "output_type": "execute_result"
    }
   ],
   "source": [
    "class Solution(object):\n",
    "    def isPalindrome(self, num):\n",
    "        t=num\n",
    "        l=[]\n",
    "        final=\"\"\n",
    "        if t==0:\n",
    "            l.append(str(t))\n",
    "            final=\"\".join(l)\n",
    "        else:\n",
    "            while(t>0):\n",
    "                rem= t % 10\n",
    "                l.append(str(rem))\n",
    "                t= t // 10   \n",
    "            final=\"\".join(l)\n",
    "            print(final)\n",
    "        if final == str(num):\n",
    "            return True\n",
    "        else:\n",
    "            return False\n",
    "obj=Solution()\n",
    "num=0\n",
    "obj.isPalindrome(num)\n"
   ]
  },
  {
   "cell_type": "code",
   "execution_count": 8,
   "id": "64a92901-8a2f-41de-8a56-7797c3e0e12e",
   "metadata": {},
   "outputs": [
    {
     "data": {
      "text/plain": [
       "[1, 2, 2, 3, 3, 4]"
      ]
     },
     "execution_count": 8,
     "metadata": {},
     "output_type": "execute_result"
    }
   ],
   "source": [
    "# Definition for singly-linked list.\n",
    "# class ListNode(object):\n",
    "#     def __init__(self, val=0, next=None):\n",
    "#         self.val = val\n",
    "#         self.next = next\n",
    "class Solution(object):\n",
    "    def mergeTwoLists(self, list1, list2):\n",
    "        list1.extend(list2)\n",
    "        list1.sort()\n",
    "        return list1\n",
    "        \n",
    "obj=Solution()\n",
    "l=[1,2,3]\n",
    "l2=[2,3,4]\n",
    "obj.mergeTwoLists(l,l2)"
   ]
  },
  {
   "cell_type": "code",
   "execution_count": 14,
   "id": "b1b0be5a-ffb4-4b80-a241-f02ae5417b14",
   "metadata": {},
   "outputs": [
    {
     "data": {
      "text/plain": [
       "[1, 2, 2, 3, 3, 4]"
      ]
     },
     "execution_count": 14,
     "metadata": {},
     "output_type": "execute_result"
    }
   ],
   "source": [
    "# Definition for singly-linked list.\n",
    "# class ListNode(object):\n",
    "#     def __init__(self, val=0, next=None):\n",
    "#         self.val = val\n",
    "#         self.next = next\n",
    "class Solution(object):\n",
    "    def mergeTwoLists(self, list1, list2):\n",
    "        l=[]\n",
    "        for i in range(0,len(list1)):\n",
    "                l.append(list1[i])       \n",
    "        for j in range(0,len(list2)):\n",
    "             l.append(list2[j])\n",
    "        l.sort()\n",
    "        return(l)\n",
    "        \n",
    "obj=Solution()\n",
    "l=[1,2,3]\n",
    "l2=[2,3,4]\n",
    "obj.mergeTwoLists(l,l2)"
   ]
  },
  {
   "cell_type": "code",
   "execution_count": 16,
   "id": "426ccf8c-6426-4c27-8f38-525e8f174f35",
   "metadata": {},
   "outputs": [
    {
     "data": {
      "text/plain": [
       "[0]"
      ]
     },
     "execution_count": 16,
     "metadata": {},
     "output_type": "execute_result"
    }
   ],
   "source": [
    "# Definition for singly-linked list.\n",
    "# class ListNode(object):\n",
    "#     def __init__(self, val=0, next=None):\n",
    "#         self.val = val\n",
    "#         self.next = next\n",
    "class Solution(object):\n",
    "    def mergeTwoLists(self, list1, list2):\n",
    "        l=[]\n",
    "        c1=0\n",
    "        c2=0\n",
    "        for i in list1:\n",
    "            c1+=1\n",
    "        for j in list2:\n",
    "            c2+=1\n",
    "        for i in range(0,c1):\n",
    "                l.append(list1[i])       \n",
    "        for j in range(0,c2):\n",
    "             l.append(list2[j])\n",
    "        l.sort()\n",
    "        return(l)\n",
    "        \n",
    "obj=Solution()\n",
    "list1=[]\n",
    "list2=[0]\n",
    "obj.mergeTwoLists(list1,list2)"
   ]
  },
  {
   "cell_type": "code",
   "execution_count": 23,
   "id": "afcda77c-27ba-4df1-ba6d-c6fd01471be8",
   "metadata": {},
   "outputs": [
    {
     "ename": "AttributeError",
     "evalue": "'list' object has no attribute 'next'",
     "output_type": "error",
     "traceback": [
      "\u001b[0;31m---------------------------------------------------------------------------\u001b[0m",
      "\u001b[0;31mAttributeError\u001b[0m                            Traceback (most recent call last)",
      "Input \u001b[0;32mIn [23]\u001b[0m, in \u001b[0;36m<cell line: 4>\u001b[0;34m()\u001b[0m\n\u001b[1;32m      4\u001b[0m \u001b[38;5;28;01mif\u001b[39;00m list1 \u001b[38;5;241m<\u001b[39m list2:\n\u001b[1;32m      5\u001b[0m     head\u001b[38;5;241m=\u001b[39mlist1\n\u001b[0;32m----> 6\u001b[0m     list1\u001b[38;5;241m=\u001b[39m\u001b[43mlist1\u001b[49m\u001b[38;5;241;43m.\u001b[39;49m\u001b[43mnext\u001b[49m\n\u001b[1;32m      7\u001b[0m \u001b[38;5;28;01melse\u001b[39;00m:\n\u001b[1;32m      8\u001b[0m     head\u001b[38;5;241m=\u001b[39mlist2\n",
      "\u001b[0;31mAttributeError\u001b[0m: 'list' object has no attribute 'next'"
     ]
    }
   ],
   "source": [
    "head=[]\n",
    "list1=[1,2,3]\n",
    "list2=[3,4,5]\n",
    "if list1 < list2:\n",
    "    head=list1\n",
    "    list1=list1.next\n",
    "else:\n",
    "    head=list2\n",
    "    list2=list2.next"
   ]
  },
  {
   "cell_type": "code",
   "execution_count": 22,
   "id": "2f873371-4a16-4eb3-9be0-8c7304e0e712",
   "metadata": {},
   "outputs": [
    {
     "name": "stdout",
     "output_type": "stream",
     "text": [
      "0 0\n"
     ]
    },
    {
     "data": {
      "text/plain": [
       "[]"
      ]
     },
     "execution_count": 22,
     "metadata": {},
     "output_type": "execute_result"
    }
   ],
   "source": [
    "\n",
    "class Solution(object):\n",
    "    def mergeTwoLists(self, list1, list2):\n",
    "        l=[]\n",
    "        c1=0\n",
    "        c2=0\n",
    "        while(list1 = None):\n",
    "            c1 +=1\n",
    "        while(list2 == None):\n",
    "            c1 +=1\n",
    "        print(c1,c2)\n",
    "        for i in range(0,c1):\n",
    "                l.append(list1[i])       \n",
    "        for j in range(0,c2):\n",
    "             l.append(list2[j])\n",
    "        l.sort()\n",
    "        return(l)\n",
    "        \n",
    "obj=Solution()\n",
    "list1=[]\n",
    "list2=[0]\n",
    "obj.mergeTwoLists(list1,list2)"
   ]
  },
  {
   "cell_type": "code",
   "execution_count": 29,
   "id": "f4dbed1f-ab8f-4b9d-8d3a-05559b3d239e",
   "metadata": {},
   "outputs": [
    {
     "data": {
      "text/plain": [
       "[1, 1, 2, 3, 4, 4]"
      ]
     },
     "execution_count": 29,
     "metadata": {},
     "output_type": "execute_result"
    }
   ],
   "source": [
    "# Definition for singly-linked list.\n",
    "# class ListNode(object):\n",
    "#     def __init__(self, val=0, next=None):\n",
    "#         self.val = val\n",
    "#         self.next = next\n",
    "class Solution(object):\n",
    "    def mergeTwoLists(self, list1, list2):\n",
    "        final=sorted(list1+list2)\n",
    "        return final\n",
    "        \n",
    "obj=Solution()\n",
    "list1=[1,2,4]\n",
    "list2=[1,3,4]\n",
    "obj.mergeTwoLists(list1,list2)"
   ]
  },
  {
   "cell_type": "code",
   "execution_count": 34,
   "id": "d70a996c-c74b-4f59-904e-c18d06ef5871",
   "metadata": {},
   "outputs": [
    {
     "name": "stdout",
     "output_type": "stream",
     "text": [
      "[1, 1, 2, 3, 5, 6, 9, 11]\n"
     ]
    }
   ],
   "source": [
    "\n",
    " \n",
    "s1 = len(list1)\n",
    "s2 = len(list2)\n",
    " \n",
    "res = []\n",
    "i, j = 0, 0\n",
    " \n",
    "while i < s1 and j < s2:\n",
    "    if list1[i] < list2[j]:\n",
    "        res.append(list1[i])\n",
    "        i += 1\n",
    " \n",
    "    else:\n",
    "        res.append(list2[j])\n",
    "        j += 1\n",
    "\n",
    "res = res + list1[i:] + list2[j:]\n",
    "\n",
    "print(res)"
   ]
  },
  {
   "cell_type": "code",
   "execution_count": 37,
   "id": "34a33ca3-f307-4ab4-bb0e-e2ea071d8780",
   "metadata": {},
   "outputs": [
    {
     "name": "stdout",
     "output_type": "stream",
     "text": [
      "[1, 1, 2, 3, 4]\n"
     ]
    }
   ],
   "source": [
    "# Definition for singly-linked list.\n",
    "# class ListNode(object):\n",
    "#     def __init__(self, val=0, next=None):\n",
    "#         self.val = val\n",
    "#         self.next = next\n",
    "class Solution(object):\n",
    "    def mergeTwoLists(self, list1, list2):\n",
    "        final=[]\n",
    "        c1=len(list1)\n",
    "        c2=len(list2)\n",
    "        i=j=0\n",
    "        while(i<s1 and j < s2):\n",
    "            if list1[i] < list2[j]:\n",
    "                final.append(list1[i])\n",
    "                i+=1\n",
    "            else:\n",
    "                final.append(list2[j])\n",
    "                j+=1\n",
    "\n",
    "        print(final)\n",
    "obj=Solution()\n",
    "list1=[1,2,4]\n",
    "list2=[1,3,4]\n",
    "obj.mergeTwoLists(list1,list2)"
   ]
  },
  {
   "cell_type": "code",
   "execution_count": 3,
   "id": "61a21948-de24-481e-8f76-98bc0795405d",
   "metadata": {},
   "outputs": [
    {
     "data": {
      "text/plain": [
       "3"
      ]
     },
     "execution_count": 3,
     "metadata": {},
     "output_type": "execute_result"
    }
   ],
   "source": [
    "class Solution(object):\n",
    "    def climbStairs(self, n):\n",
    "        \"\"\"\n",
    "        :type n: int\n",
    "        :rtype: int\n",
    "        \"\"\"\n",
    "        top=3\n",
    "        ways=0\n",
    "        step=0\n",
    "        for i in range(0,top):\n",
    "            if step !=top:\n",
    "                step +=1\n",
    "                ways +=1\n",
    "        return ways\n",
    "\n",
    "obj=Solution()\n",
    "n=7\n",
    "obj.climbStairs(n)"
   ]
  },
  {
   "cell_type": "code",
   "execution_count": 43,
   "id": "44ee6e77-1092-400a-a731-d7d6b8466662",
   "metadata": {},
   "outputs": [
    {
     "name": "stdout",
     "output_type": "stream",
     "text": [
      "2\n"
     ]
    }
   ],
   "source": [
    "class Solution(object):\n",
    "    def climbStairs(self, n):\n",
    "        \"\"\"\n",
    "        :type n: int\n",
    "        :rtype: int\n",
    "        \"\"\"\n",
    "        w=0\n",
    "        for i in range(0,n,2):\n",
    "            if i<=n:\n",
    "                w +=1\n",
    "        print(w)\n",
    "            \n",
    "            \n",
    "obj=Solution()\n",
    "n=4\n",
    "obj.climbStairs(n)"
   ]
  },
  {
   "cell_type": "code",
   "execution_count": null,
   "id": "dfea6e8a-1f5f-4dca-b4f6-d1772f8495c9",
   "metadata": {},
   "outputs": [],
   "source": []
  },
  {
   "cell_type": "code",
   "execution_count": null,
   "id": "cedb257b-006d-46b5-a4c7-8eb9181f51ab",
   "metadata": {},
   "outputs": [],
   "source": []
  }
 ],
 "metadata": {
  "kernelspec": {
   "display_name": "Python 3 (ipykernel)",
   "language": "python",
   "name": "python3"
  },
  "language_info": {
   "codemirror_mode": {
    "name": "ipython",
    "version": 3
   },
   "file_extension": ".py",
   "mimetype": "text/x-python",
   "name": "python",
   "nbconvert_exporter": "python",
   "pygments_lexer": "ipython3",
   "version": "3.9.12"
  }
 },
 "nbformat": 4,
 "nbformat_minor": 5
}
