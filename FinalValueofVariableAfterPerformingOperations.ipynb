{
 "cells": [
  {
   "cell_type": "code",
   "execution_count": 2,
   "id": "a5c68e6d-f958-45e3-a6e4-c6de9aedbdda",
   "metadata": {},
   "outputs": [
    {
     "data": {
      "text/plain": [
       "3"
      ]
     },
     "execution_count": 2,
     "metadata": {},
     "output_type": "execute_result"
    }
   ],
   "source": [
    "class Solution(object):\n",
    "    def finalValueAfterOperations(self, operations):\n",
    "        \"\"\"\n",
    "            ++X and X++ increments the value of the variable X by 1.\n",
    "            --X and X-- decrements the value of the variable X by 1\n",
    "        \n",
    "        \"\"\"\n",
    "      \n",
    "        i=0 #initially i0\n",
    "        final=0 #acts as counter\n",
    "        while i<len(operations): #loop till lngth of operations\n",
    "            \n",
    "            if operations[i] == \"++X\" or operations[i] == \"X++\": # if we encounter this value of operations\n",
    "                \n",
    "                final +=1 #then we will add 1 in final\n",
    "                i +=1 #incrementing the loop as well\n",
    "            else:\n",
    "                final -=1 #then we will subtract 1 in final\n",
    "                i +=1 #incrementing the loop as well\n",
    "                \n",
    "        return final #will return back on method call\n",
    "        \n",
    "obj=Solution()\n",
    "operations = [\"++X\",\"++X\",\"X++\"]\n",
    "obj.finalValueAfterOperations(operations) #method call"
   ]
  },
  {
   "cell_type": "code",
   "execution_count": null,
   "id": "ec8f81b2-637d-43dd-91e1-1816c38d6a7d",
   "metadata": {},
   "outputs": [],
   "source": []
  }
 ],
 "metadata": {
  "kernelspec": {
   "display_name": "Python 3 (ipykernel)",
   "language": "python",
   "name": "python3"
  },
  "language_info": {
   "codemirror_mode": {
    "name": "ipython",
    "version": 3
   },
   "file_extension": ".py",
   "mimetype": "text/x-python",
   "name": "python",
   "nbconvert_exporter": "python",
   "pygments_lexer": "ipython3",
   "version": "3.9.12"
  }
 },
 "nbformat": 4,
 "nbformat_minor": 5
}
