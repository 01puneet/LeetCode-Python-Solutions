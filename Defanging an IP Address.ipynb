{
 "cells": [
  {
   "cell_type": "code",
   "execution_count": 3,
   "id": "eb35688a-1f16-4898-badd-224592e4979a",
   "metadata": {},
   "outputs": [
    {
     "data": {
      "text/plain": [
       "'1[.]1[.]1[.]1'"
      ]
     },
     "execution_count": 3,
     "metadata": {},
     "output_type": "execute_result"
    }
   ],
   "source": [
    "class Solution(object):\n",
    "    def defangIPaddr(self, address):\n",
    "        \n",
    "        s=''#empty string\n",
    "        for i in range(0,len(address)): #looping the address \n",
    "            s=address.replace('.','[.]') #replace . [.]\n",
    "        return s #returning the updated string\n",
    "obj=Solution()# creating object \n",
    "address=\"1.1.1.1\" #creating address\n",
    "obj.defangIPaddr(address) #method call"
   ]
  },
  {
   "cell_type": "code",
   "execution_count": null,
   "id": "db600145-9969-43ad-bcf9-6a1186186c4c",
   "metadata": {},
   "outputs": [],
   "source": []
  },
  {
   "cell_type": "code",
   "execution_count": null,
   "id": "39e670b9-d99e-4c49-8a46-c2f05fd89fa5",
   "metadata": {},
   "outputs": [],
   "source": []
  }
 ],
 "metadata": {
  "kernelspec": {
   "display_name": "Python 3 (ipykernel)",
   "language": "python",
   "name": "python3"
  },
  "language_info": {
   "codemirror_mode": {
    "name": "ipython",
    "version": 3
   },
   "file_extension": ".py",
   "mimetype": "text/x-python",
   "name": "python",
   "nbconvert_exporter": "python",
   "pygments_lexer": "ipython3",
   "version": "3.9.12"
  }
 },
 "nbformat": 4,
 "nbformat_minor": 5
}
