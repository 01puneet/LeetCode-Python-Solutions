{
 "cells": [
  {
   "cell_type": "code",
   "execution_count": null,
   "id": "a12971e7-8b3e-4651-9cba-7b1a9ac61953",
   "metadata": {},
   "outputs": [],
   "source": [
    "class Solution(object):\n",
    "    def sortPeople(self, names, heights):\n",
    "        for i in range(0,len(heights)):#looping the heights\n",
    "            for j in range(0,len(heights)):#looping the heights\n",
    "                if heights[i]>heights[j]:#if i>j then \n",
    "                    heights[i],heights[j]=heights[j],heights[i]#swap\n",
    "                    names[i],names[j]=names[j],names[i]#swap the indexes of names as well.\n",
    "        return names\n",
    "        \n",
    "        \n",
    "obj=Solution()\n",
    "names = [\"Mary\",\"John\",\"Emma\"]\n",
    "heights = [180,165,170]\n",
    "obj.sortPeople(names,heights)"
   ]
  }
 ],
 "metadata": {
  "kernelspec": {
   "display_name": "Python 3 (ipykernel)",
   "language": "python",
   "name": "python3"
  },
  "language_info": {
   "codemirror_mode": {
    "name": "ipython",
    "version": 3
   },
   "file_extension": ".py",
   "mimetype": "text/x-python",
   "name": "python",
   "nbconvert_exporter": "python",
   "pygments_lexer": "ipython3",
   "version": "3.9.12"
  }
 },
 "nbformat": 4,
 "nbformat_minor": 5
}
