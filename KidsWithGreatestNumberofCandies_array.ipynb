{
 "cells": [
  {
   "cell_type": "code",
   "execution_count": 4,
   "id": "a4604bc6-f1a8-4805-86ad-cc471de4ccb9",
   "metadata": {},
   "outputs": [
    {
     "data": {
      "text/plain": [
       "[True, True, True, False, True]"
      ]
     },
     "execution_count": 4,
     "metadata": {},
     "output_type": "execute_result"
    }
   ],
   "source": [
    "#solution 1- optimised\n",
    "class Solution(object):\n",
    "    def kidsWithCandies(self, candies, extraCandies):\n",
    "        m=max(candies) #finding maximum candies to a kid\n",
    "        final = [] #output list which is initially empty\n",
    "        \n",
    "        for c in candies: # loop the candies\n",
    "            if c + extraCandies >= m: #if candy + extracandy is greater than m \n",
    "                final.append(True) #add true in list\n",
    "            else:\n",
    "                final.append(False) #else: false\n",
    "                \n",
    "        return final #return Final\n",
    "obj=Solution()#creating object\n",
    "candies=[2,3,5,1,3]\n",
    "extraCandies=3\n",
    "obj.kidsWithCandies(candies, extraCandies) #calling method"
   ]
  },
  {
   "cell_type": "code",
   "execution_count": 6,
   "id": "14645ae1-dcbb-44dd-8b05-c557672a79dd",
   "metadata": {},
   "outputs": [
    {
     "data": {
      "text/plain": [
       "[True, True, True, False, True]"
      ]
     },
     "execution_count": 6,
     "metadata": {},
     "output_type": "execute_result"
    }
   ],
   "source": [
    "#solution 2 \n",
    "class Solution(object):\n",
    "    def kidsWithCandies(self, candies, extraCandies):\n",
    "        addedcandy=[]#will be list of candies + extra candy\n",
    "        m=max(candies) #finding maximum candies to a kid\n",
    "        final = [] #output list which is initially empty\n",
    "        for i in range(0,len(candies)): #looping candies\n",
    "            addedcandy.append(candies[i] +extraCandies) #adding candy ,extracandy & adding vaue in the list\n",
    "            \n",
    "        \n",
    "        for j in range(0,len(addedcandy)): # loop the adedcandy list\n",
    "            if  addedcandy[j] >= m: #if elemet of addedcandy is greater than m \n",
    "                final.append(True) #add true in list\n",
    "            else:\n",
    "                final.append(False) #else: false\n",
    "                \n",
    "        return final #return Final\n",
    "obj=Solution()#creating object\n",
    "candies=[2,3,5,1,3]\n",
    "extraCandies=3\n",
    "obj.kidsWithCandies(candies, extraCandies) #calling method"
   ]
  },
  {
   "cell_type": "code",
   "execution_count": null,
   "id": "9e60ed34-853f-48b3-a142-b35bff59e0f9",
   "metadata": {},
   "outputs": [],
   "source": []
  }
 ],
 "metadata": {
  "kernelspec": {
   "display_name": "Python 3 (ipykernel)",
   "language": "python",
   "name": "python3"
  },
  "language_info": {
   "codemirror_mode": {
    "name": "ipython",
    "version": 3
   },
   "file_extension": ".py",
   "mimetype": "text/x-python",
   "name": "python",
   "nbconvert_exporter": "python",
   "pygments_lexer": "ipython3",
   "version": "3.9.12"
  }
 },
 "nbformat": 4,
 "nbformat_minor": 5
}
