{
 "cells": [
  {
   "cell_type": "code",
   "execution_count": 1,
   "id": "3ca1672d-6304-4bb1-b19e-e8bbd0897c26",
   "metadata": {},
   "outputs": [
    {
     "data": {
      "text/plain": [
       "'hello'"
      ]
     },
     "execution_count": 1,
     "metadata": {},
     "output_type": "execute_result"
    }
   ],
   "source": [
    " class Solution(object):\n",
    "    def toLowerCase(self, s):\n",
    "        \"\"\"\n",
    "        :type s: str\n",
    "        :rtype: str\n",
    "        \"\"\"\n",
    "        return s.lower()\n",
    "    \n",
    "obj=Solution()\n",
    "s=\"HELLO\"\n",
    "obj.toLowerCase(s)"
   ]
  },
  {
   "cell_type": "code",
   "execution_count": null,
   "id": "29a56318-c3d8-4763-8ecb-bbbbd359477c",
   "metadata": {},
   "outputs": [],
   "source": []
  }
 ],
 "metadata": {
  "kernelspec": {
   "display_name": "Python 3 (ipykernel)",
   "language": "python",
   "name": "python3"
  },
  "language_info": {
   "codemirror_mode": {
    "name": "ipython",
    "version": 3
   },
   "file_extension": ".py",
   "mimetype": "text/x-python",
   "name": "python",
   "nbconvert_exporter": "python",
   "pygments_lexer": "ipython3",
   "version": "3.9.12"
  }
 },
 "nbformat": 4,
 "nbformat_minor": 5
}
