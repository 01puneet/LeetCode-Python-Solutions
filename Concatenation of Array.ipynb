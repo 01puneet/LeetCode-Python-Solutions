{
 "cells": [
  {
   "cell_type": "code",
   "execution_count": 1,
   "id": "97aa56cb-8a4c-45d8-9931-0d2d5b5da05f",
   "metadata": {},
   "outputs": [
    {
     "data": {
      "text/plain": [
       "[1, 3, 2, 1, 1, 3, 2, 1]"
      ]
     },
     "execution_count": 1,
     "metadata": {},
     "output_type": "execute_result"
    }
   ],
   "source": [
    "#solution 1\n",
    "class Solution(object):\n",
    "    def getConcatenation(self, nums):\n",
    "        copy=[] #create empty list to copy elements from nums\n",
    "        for i in nums:#loop the nums\n",
    "            copy.append(i)#add elements in copy\n",
    "        concat=nums + copy#concat nums & copy\n",
    "        return concat #returning back the value on method call\n",
    "\n",
    "obj=Solution()\n",
    "nums=[1,3,2,1]\n",
    "obj.getConcatenation(nums)#calling method\n"
   ]
  },
  {
   "cell_type": "code",
   "execution_count": null,
   "id": "d444c0f5-6394-43ea-b837-fa942f4fc2c7",
   "metadata": {},
   "outputs": [],
   "source": []
  }
 ],
 "metadata": {
  "kernelspec": {
   "display_name": "Python 3 (ipykernel)",
   "language": "python",
   "name": "python3"
  },
  "language_info": {
   "codemirror_mode": {
    "name": "ipython",
    "version": 3
   },
   "file_extension": ".py",
   "mimetype": "text/x-python",
   "name": "python",
   "nbconvert_exporter": "python",
   "pygments_lexer": "ipython3",
   "version": "3.9.12"
  }
 },
 "nbformat": 4,
 "nbformat_minor": 5
}
