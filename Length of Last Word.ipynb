{
 "cells": [
  {
   "cell_type": "code",
   "execution_count": 8,
   "id": "e0876d74-6fe5-489f-9cbc-da774bb9024f",
   "metadata": {},
   "outputs": [
    {
     "data": {
      "text/plain": [
       "4"
      ]
     },
     "execution_count": 8,
     "metadata": {},
     "output_type": "execute_result"
    }
   ],
   "source": [
    "class Solution(object):\n",
    "    def lengthOfLastWord(self, s):\n",
    "        s=s.strip()#remove the extra spaces in string from front & rare end\n",
    "        mylist=s.split(' ')#split the string into list if there is space between words\n",
    "        lengthofmylist=len(mylist)#find length of string \n",
    "        lastword=mylist[lengthofmylist-1]#getting last index\n",
    "        length=len(lastword)#length of lastword\n",
    "        return length\n",
    "        \n",
    "obj=Solution()\n",
    "s=\"   fly me   to   the moon  \"\n",
    "obj.lengthOfLastWord(s)"
   ]
  },
  {
   "cell_type": "code",
   "execution_count": null,
   "id": "ef9820bd-5487-426b-b302-7a2c3d36be56",
   "metadata": {},
   "outputs": [],
   "source": []
  }
 ],
 "metadata": {
  "kernelspec": {
   "display_name": "Python 3 (ipykernel)",
   "language": "python",
   "name": "python3"
  },
  "language_info": {
   "codemirror_mode": {
    "name": "ipython",
    "version": 3
   },
   "file_extension": ".py",
   "mimetype": "text/x-python",
   "name": "python",
   "nbconvert_exporter": "python",
   "pygments_lexer": "ipython3",
   "version": "3.9.12"
  }
 },
 "nbformat": 4,
 "nbformat_minor": 5
}
