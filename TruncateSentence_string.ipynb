{
 "cells": [
  {
   "cell_type": "code",
   "execution_count": 5,
   "id": "ead7a5db-536f-464e-9892-9cc97c06abf8",
   "metadata": {},
   "outputs": [
    {
     "data": {
      "text/plain": [
       "'Hello how are you'"
      ]
     },
     "execution_count": 5,
     "metadata": {},
     "output_type": "execute_result"
    }
   ],
   "source": [
    "class Solution(object):\n",
    "    def truncateSentence(self, s, k):\n",
    "        \"\"\"\n",
    "        :type s: str\n",
    "        :type k: int\n",
    "        :rtype: str\n",
    "        \"\"\"\n",
    "        l=s.split(\" \")#split string into list\n",
    "        truncate=l[0:k]#truncate\n",
    "        truncated_string=\" \".join(truncate)#join the truncated list\n",
    "        return truncated_string# return truncated string\n",
    "        \n",
    "obj=Solution()\n",
    "s=\"Hello how are you Contestant\"\n",
    "k=4\n",
    "obj.truncateSentence(s, k)"
   ]
  },
  {
   "cell_type": "code",
   "execution_count": null,
   "id": "fc3d450b-21c4-4ec5-bbe0-9906c9c8fa93",
   "metadata": {},
   "outputs": [],
   "source": []
  }
 ],
 "metadata": {
  "kernelspec": {
   "display_name": "Python 3 (ipykernel)",
   "language": "python",
   "name": "python3"
  },
  "language_info": {
   "codemirror_mode": {
    "name": "ipython",
    "version": 3
   },
   "file_extension": ".py",
   "mimetype": "text/x-python",
   "name": "python",
   "nbconvert_exporter": "python",
   "pygments_lexer": "ipython3",
   "version": "3.9.12"
  }
 },
 "nbformat": 4,
 "nbformat_minor": 5
}
