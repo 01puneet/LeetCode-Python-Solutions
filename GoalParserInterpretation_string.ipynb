{
 "cells": [
  {
   "cell_type": "code",
   "execution_count": null,
   "id": "2b7a6119-4b49-45c4-b9ba-916ada1e8a66",
   "metadata": {},
   "outputs": [],
   "source": [
    "\"\"\"\n",
    "Replace if\n",
    "G -> G\n",
    "() -> o\n",
    "(al) -> al\n",
    "\"\"\""
   ]
  },
  {
   "cell_type": "code",
   "execution_count": 2,
   "id": "5d46b4e5-8bbf-4ddd-be0c-38f373f328e1",
   "metadata": {},
   "outputs": [
    {
     "data": {
      "text/plain": [
       "'Goal'"
      ]
     },
     "execution_count": 2,
     "metadata": {},
     "output_type": "execute_result"
    }
   ],
   "source": [
    "class Solution(object):\n",
    "    def interpret(self, command):\n",
    "        \"\"\"\n",
    "        :type command: str\n",
    "        :rtype: str\n",
    "        \"\"\"\n",
    "        #not replacing G as its Again same\n",
    "        s=command.replace('()',\"o\")#replacing ()- o\n",
    "        s2=s.replace(\"(al)\",\"al\")#replacing (al)-al\n",
    "        return s2#returning final result\n",
    "obj=Solution()\n",
    "command = \"G()(al)\"\n",
    "obj.interpret(command)"
   ]
  }
 ],
 "metadata": {
  "kernelspec": {
   "display_name": "Python 3 (ipykernel)",
   "language": "python",
   "name": "python3"
  },
  "language_info": {
   "codemirror_mode": {
    "name": "ipython",
    "version": 3
   },
   "file_extension": ".py",
   "mimetype": "text/x-python",
   "name": "python",
   "nbconvert_exporter": "python",
   "pygments_lexer": "ipython3",
   "version": "3.9.12"
  }
 },
 "nbformat": 4,
 "nbformat_minor": 5
}
