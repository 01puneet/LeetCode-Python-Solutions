{
 "cells": [
  {
   "cell_type": "code",
   "execution_count": 1,
   "id": "33d94b10-990e-4be3-984c-a5d3f9645146",
   "metadata": {},
   "outputs": [
    {
     "data": {
      "text/plain": [
       "True"
      ]
     },
     "execution_count": 1,
     "metadata": {},
     "output_type": "execute_result"
    }
   ],
   "source": [
    "class Solution(object):\n",
    "    def arrayStringsAreEqual(self, word1, word2):\n",
    "        s1=\"\".join(word1)\n",
    "        s2=\"\".join(word2)\n",
    "        l1=s1.split()\n",
    "        l2=s2.split()\n",
    "        for i in range(0,len(l1)):\n",
    "            if l1[i]==l2[i]:\n",
    "                flag=1\n",
    "            else:\n",
    "                flag=0\n",
    "        if flag==1:\n",
    "            return True\n",
    "        else:\n",
    "            return False\n",
    "        \n",
    "word1 = [\"ab\", \"c\"] \n",
    "word2 = [\"a\", \"bc\"]\n",
    "obj=Solution()\n",
    "obj.arrayStringsAreEqual(word1, word2)"
   ]
  },
  {
   "cell_type": "code",
   "execution_count": null,
   "id": "4fd151dd-a87a-41d8-97a1-1e6651d05e66",
   "metadata": {},
   "outputs": [],
   "source": []
  }
 ],
 "metadata": {
  "kernelspec": {
   "display_name": "Python 3 (ipykernel)",
   "language": "python",
   "name": "python3"
  },
  "language_info": {
   "codemirror_mode": {
    "name": "ipython",
    "version": 3
   },
   "file_extension": ".py",
   "mimetype": "text/x-python",
   "name": "python",
   "nbconvert_exporter": "python",
   "pygments_lexer": "ipython3",
   "version": "3.9.12"
  }
 },
 "nbformat": 4,
 "nbformat_minor": 5
}
