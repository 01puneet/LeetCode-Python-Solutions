{
 "cells": [
  {
   "cell_type": "code",
   "execution_count": 25,
   "id": "c53955da-9627-49cf-ad65-1585853f3ad1",
   "metadata": {},
   "outputs": [
    {
     "data": {
      "text/plain": [
       "41111.11111111111"
      ]
     },
     "execution_count": 25,
     "metadata": {},
     "output_type": "execute_result"
    }
   ],
   "source": [
    "#Average Salary Excluding the Minimum and Maximum Salary\n",
    "#solution 1\n",
    "class Solution(object):\n",
    "    def average(self, salary):\n",
    "        maxi=salary.index(max(salary))#find index of maximum value\n",
    "        salary.pop(maxi)#remove maximum value\n",
    "        mini=salary.index(min(salary)) #find index of minimum value\n",
    "        salary.pop(mini)#remove the minimum value\n",
    "        length=len(salary)#find length of salary\n",
    "        s=sum(salary) #sum the salary & store in variable\n",
    "        return s/float(length) #return the average\n",
    "        \n",
    "        \n",
    "        \n",
    "obj=Solution()\n",
    "salary=[48000,59000,99000,13000,78000,45000,31000,17000,39000,37000,93000,77000,33000,28000,4000,54000,67000,6000,1000,11000]\n",
    "obj.average(salary)"
   ]
  },
  {
   "cell_type": "code",
   "execution_count": 26,
   "id": "37cdd024-6bf9-4f25-a333-24a14f410ea1",
   "metadata": {},
   "outputs": [
    {
     "data": {
      "text/plain": [
       "41111.11111111111"
      ]
     },
     "execution_count": 26,
     "metadata": {},
     "output_type": "execute_result"
    }
   ],
   "source": [
    "#solution 2\n",
    "class Solution(object):\n",
    "    def average(self, salary):\n",
    "        salary.sort()\n",
    "        salary.pop(0)\n",
    "        salary.pop(len(salary)-1)\n",
    "        res=sum(salary)/float(len(salary))\n",
    "        return res\n",
    "        \n",
    "obj=Solution()\n",
    "salary=[48000,59000,99000,13000,78000,45000,31000,17000,39000,37000,93000,77000,33000,28000,4000,54000,67000,6000,1000,11000]\n",
    "obj.average(salary)"
   ]
  },
  {
   "cell_type": "code",
   "execution_count": 27,
   "id": "8715e740-0c29-4dc8-b58e-30e4f48d2c8e",
   "metadata": {},
   "outputs": [
    {
     "data": {
      "text/plain": [
       "41111.11111111111"
      ]
     },
     "execution_count": 27,
     "metadata": {},
     "output_type": "execute_result"
    }
   ],
   "source": [
    "#solution 3\n",
    "class Solution(object):\n",
    "    def average(self, salary):\n",
    "        salary.remove(max(salary))\n",
    "        salary.remove(min(salary))\n",
    "        return (sum(salary)/float(len(salary)))\n",
    "       \n",
    "obj=Solution()\n",
    "salary=[48000,59000,99000,13000,78000,45000,31000,17000,39000,37000,93000,77000,33000,28000,4000,54000,67000,6000,1000,11000]\n",
    "obj.average(salary)"
   ]
  },
  {
   "cell_type": "code",
   "execution_count": null,
   "id": "9b0b1441-d140-4f0b-a829-cd2eea5ce897",
   "metadata": {},
   "outputs": [],
   "source": []
  }
 ],
 "metadata": {
  "kernelspec": {
   "display_name": "Python 3 (ipykernel)",
   "language": "python",
   "name": "python3"
  },
  "language_info": {
   "codemirror_mode": {
    "name": "ipython",
    "version": 3
   },
   "file_extension": ".py",
   "mimetype": "text/x-python",
   "name": "python",
   "nbconvert_exporter": "python",
   "pygments_lexer": "ipython3",
   "version": "3.9.12"
  }
 },
 "nbformat": 4,
 "nbformat_minor": 5
}
