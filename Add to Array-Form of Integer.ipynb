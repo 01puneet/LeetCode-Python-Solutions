{
 "cells": [
  {
   "cell_type": "code",
   "execution_count": 1,
   "id": "20fdab9f-0dd7-4675-81e5-dd90a7bcef30",
   "metadata": {},
   "outputs": [
    {
     "name": "stdout",
     "output_type": "stream",
     "text": [
      "[1, 2, 3, 4]\n"
     ]
    }
   ],
   "source": [
    "class Solution(object):\n",
    "    def addToArrayForm(self, num, k):\n",
    "        s1=''#initialize empty string\n",
    "        s1 = ''.join([str(n) for n in num])#converting list into string\n",
    "        result=int(s1)+k#converting string to int & adding with k\n",
    "        r=str(result)#converting back to string\n",
    "        \n",
    "        l=[]#initialize final empty list\n",
    "    \n",
    "        for i in range(0,len(r)):\n",
    "            l.append(int(r[i]))#append result string elements to list\n",
    "        return l #return list\n",
    "            \n",
    "obj=Solution()\n",
    "num=[1,2,0,0]\n",
    "k=34\n",
    "print(obj.addToArrayForm(num,k))"
   ]
  },
  {
   "cell_type": "code",
   "execution_count": null,
   "id": "506468fc-63ec-4762-9b3b-09a8a116dab1",
   "metadata": {},
   "outputs": [],
   "source": []
  }
 ],
 "metadata": {
  "kernelspec": {
   "display_name": "Python 3 (ipykernel)",
   "language": "python",
   "name": "python3"
  },
  "language_info": {
   "codemirror_mode": {
    "name": "ipython",
    "version": 3
   },
   "file_extension": ".py",
   "mimetype": "text/x-python",
   "name": "python",
   "nbconvert_exporter": "python",
   "pygments_lexer": "ipython3",
   "version": "3.9.12"
  }
 },
 "nbformat": 4,
 "nbformat_minor": 5
}
