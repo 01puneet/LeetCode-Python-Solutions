{
 "cells": [
  {
   "cell_type": "code",
   "execution_count": null,
   "id": "9155430b-b9f7-4523-86bb-cdb82f14152c",
   "metadata": {},
   "outputs": [],
   "source": [
    "#Solution 1\n",
    "class Solution(object):\n",
    "    def numJewelsInStones(self, jewels, stones):\n",
    "        \n",
    "        l=[]# this will keep track of individual stones\n",
    "        c=0 #intially count is zero\n",
    "        for i in range(0,len(jewels)): #using loop to visit jewels\n",
    "            l.append(jewels[i]) #storing individual jewel in list\n",
    "            c+= stones.count(l[i])# counting the number of jewels in stones.\n",
    "        return c\n",
    "    \n",
    "obj=Solution()\n",
    "jewels = \"aA\"\n",
    "stones = \"aAAbbbb\"\n",
    "print(obj.numJewelsInStones( jewels, stones))\n"
   ]
  },
  {
   "cell_type": "code",
   "execution_count": 4,
   "id": "4fca3f8c-c526-49c7-afa6-a5da53064b00",
   "metadata": {},
   "outputs": [
    {
     "data": {
      "text/plain": [
       "3"
      ]
     },
     "execution_count": 4,
     "metadata": {},
     "output_type": "execute_result"
    }
   ],
   "source": [
    "#solution 2\n",
    "class Solution(object):\n",
    "    def numJewelsInStones(self, jewels, stones):\n",
    "        l=[]\n",
    "        c=0\n",
    "        for i in range(0,len(jewels)):\n",
    "            l.append(jewels[i])\n",
    "        for j in range(0, len(l)):\n",
    "            c+= stones.count(l[j])\n",
    "        return c\n",
    "            \n",
    "\n",
    "obj=Solution()\n",
    "jewels = \"aA\"\n",
    "stones = \"aAAbbbb\"\n",
    "obj.numJewelsInStones( jewels, stones)"
   ]
  }
 ],
 "metadata": {
  "kernelspec": {
   "display_name": "Python 3 (ipykernel)",
   "language": "python",
   "name": "python3"
  },
  "language_info": {
   "codemirror_mode": {
    "name": "ipython",
    "version": 3
   },
   "file_extension": ".py",
   "mimetype": "text/x-python",
   "name": "python",
   "nbconvert_exporter": "python",
   "pygments_lexer": "ipython3",
   "version": "3.9.12"
  }
 },
 "nbformat": 4,
 "nbformat_minor": 5
}
